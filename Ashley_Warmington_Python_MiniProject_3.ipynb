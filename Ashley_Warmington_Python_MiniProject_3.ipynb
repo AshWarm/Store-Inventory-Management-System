{
  "cells": [
    {
      "cell_type": "markdown",
      "id": "b5f6db59-f194-4ae2-a75f-75b35df63422",
      "metadata": {
        "id": "b5f6db59-f194-4ae2-a75f-75b35df63422"
      },
      "source": [
        "Design and implement an object-oriented inventory management system for a store in Python. The system should utilize classes to represent products, categories, and the store itself. Each product should have attributes like name, price, category, and stock quantity. Implement functionalities to manage product information, add/remove products from the store's inventory, search for products, and identify products with low stock levels"
      ]
    },
    {
      "cell_type": "code",
      "execution_count": null,
      "id": "24dd8aa5-6d00-450c-8e67-58f3a46355f5",
      "metadata": {
        "id": "24dd8aa5-6d00-450c-8e67-58f3a46355f5",
        "outputId": "8256616b-fc5b-4e94-cb58-ddbfb4f2a045"
      },
      "outputs": [
        {
          "name": "stdout",
          "output_type": "stream",
          "text": [
            "['tuna']\n",
            "['milk']\n",
            "['apple']\n",
            "Item:[] quantity:3 price: 0\n"
          ]
        }
      ],
      "source": [
        "class Store:\n",
        "    def __init__(self):\n",
        "        self.product = []\n",
        "        self.price = 0\n",
        "        self.category = []\n",
        "        self.quantity = 3\n",
        "\n",
        "    def addproduct(self, product, price, category, quantity):\n",
        "        self.product.append(product)\n",
        "        self.price = price\n",
        "        self.category = category\n",
        "        self.quantity = quantity\n",
        "        return self.product\n",
        "\n",
        "    def addinventory(self, item, quantity):\n",
        "        self.quantity += quantity\n",
        "        return(self.quantity)\n",
        "\n",
        "    def remove(self, item, quantity):\n",
        "        self.quantity -= quantity\n",
        "        return(self.quantity)\n",
        "\n",
        "    def inventorylist(self):\n",
        "        return(f'Item:{self.product} quantity:{self.quantity} price: {self.price}')\n",
        "\n",
        "    def category(self):\n",
        "        return(f'category:{self.category}')\n",
        "\n",
        "\n",
        "\n",
        "print(Store.addproduct(Store(),'tuna', 1.00, 'Seafood',200))\n",
        "print(Store.addproduct(Store(),'milk', 1.00, 'Dairy',40))\n",
        "print(Store.addproduct(Store(),'apple', 1.00, 'Dairy',40))\n",
        "\n",
        "print(Store.inventorylist(Store()))\n"
      ]
    },
    {
      "cell_type": "code",
      "execution_count": null,
      "id": "bac65bcb-bf84-4682-92d3-71df91217944",
      "metadata": {
        "id": "bac65bcb-bf84-4682-92d3-71df91217944",
        "outputId": "c31c7633-7e60-439a-9a5b-18dee80f0bb0"
      },
      "outputs": [
        {
          "name": "stdout",
          "output_type": "stream",
          "text": [
            "\n",
            "=== Inventory Management System Menu ===\n",
            "1. Add Product\n",
            "2. Add Inventory\n",
            "3. Remove Inventory\n",
            "4. Search Product\n",
            "5. List Low Stock Products\n",
            "6. Done\n"
          ]
        },
        {
          "name": "stdin",
          "output_type": "stream",
          "text": [
            "Enter your choice (1-6):  4\n",
            "Enter product name:  Kale\n"
          ]
        },
        {
          "name": "stdout",
          "output_type": "stream",
          "text": [
            "Product not found.\n",
            "\n",
            "=== Inventory Management System Menu ===\n",
            "1. Add Product\n",
            "2. Add Inventory\n",
            "3. Remove Inventory\n",
            "4. Search Product\n",
            "5. List Low Stock Products\n",
            "6. Done\n"
          ]
        },
        {
          "name": "stdin",
          "output_type": "stream",
          "text": [
            "Enter your choice (1-6):  1\n",
            "Enter product name:  Kale\n",
            "Enter product price:  4.95\n",
            "Enter product category:  Vegetables\n",
            "Enter product quantity:  60\n"
          ]
        },
        {
          "name": "stdout",
          "output_type": "stream",
          "text": [
            "Product added successfully.\n",
            "\n",
            "=== Inventory Management System Menu ===\n",
            "1. Add Product\n",
            "2. Add Inventory\n",
            "3. Remove Inventory\n",
            "4. Search Product\n",
            "5. List Low Stock Products\n",
            "6. Done\n"
          ]
        },
        {
          "name": "stdin",
          "output_type": "stream",
          "text": [
            "Enter your choice (1-6):  4\n",
            "Enter product name:  Kale\n"
          ]
        },
        {
          "name": "stdout",
          "output_type": "stream",
          "text": [
            "Found Product: Kale\n",
            "Quantity: 60\n",
            "Category: Vegetables\n",
            "\n",
            "=== Inventory Management System Menu ===\n",
            "1. Add Product\n",
            "2. Add Inventory\n",
            "3. Remove Inventory\n",
            "4. Search Product\n",
            "5. List Low Stock Products\n",
            "6. Done\n"
          ]
        }
      ],
      "source": [
        "class Product:\n",
        "    def __init__(self, name, price, category, quantity):\n",
        "        # Constructor method that creates a Product object with the following attributes:name, price, category, and quantity.\n",
        "        self.name = name\n",
        "        self.price = price\n",
        "        self.category = category\n",
        "        self.quantity = quantity\n",
        "\n",
        "    def __str__(self):\n",
        "        # Special method that returns a string representation of a Product object.\n",
        "        return f\"{self.name} | Price: ${self.price} | Category: {self.category} | Quantity: {self.quantity}\"\n",
        "\n",
        "class Store:\n",
        "    def __init__(self):\n",
        "        # Constructor method that creates a  Store object with an empty inventory list as an attribute.\n",
        "        #This will be used to store all the product info as products are added.\n",
        "        self.inventory = []\n",
        "\n",
        "    def add_product(self, product):\n",
        "        # Method for the Store object to add a new product to the store's inventory.\n",
        "        self.inventory.append(product)\n",
        "\n",
        "    def add_inventory(self, product_name, quantity):\n",
        "        # Add more quantity to an already existing product in the self.inventory aka Store.\n",
        "        #If product was not first added to the inventory prior, it will return 'Product not found'.\n",
        "        #Prevents duplicates!!\n",
        "        for product in self.inventory:\n",
        "            if product.name == product_name:\n",
        "                product.quantity += quantity\n",
        "                return True\n",
        "        return f'Product not found'\n",
        "\n",
        "    def remove_inventory(self, product_name, quantity):\n",
        "        # Remove quantity of an existing product from the inventory. Once again product must exist in self.inventory for this to work.\n",
        "        for product in self.inventory:\n",
        "            if product.name == product_name:\n",
        "                if product.quantity >= quantity:\n",
        "                    product.quantity -= quantity\n",
        "                    return True\n",
        "                else:\n",
        "                    return False  # Not enough products\n",
        "        return False  # Product not found\n",
        "\n",
        "    def search_product(self, product_name):\n",
        "        # Iterating over the self.inventory list to search for a product in the inventory by its name\n",
        "        #and retrieve the following details name, quantity, and category.\n",
        "        for product in self.inventory:\n",
        "            if product.name == product_name:\n",
        "                return product.name, product.quantity, product.category\n",
        "        return None, None, None  # Product not found\n",
        "\n",
        "    def low_stock_products(self, threshold=10):\n",
        "        # Method to find products in the inventory with quantity below a certain amount; 10.\n",
        "        #Adds the product to a another list, low_stock, so that a list can be returned.\n",
        "        #Also add an elif to remove products from low_stock list if quantity is above the threshold to avoid bad data.\n",
        "        low_stock = []\n",
        "        for product in self.inventory:\n",
        "            if product.quantity < threshold:\n",
        "                low_stock.append(product)\n",
        "            elif product.quantity >threshold and product in low_stock:\n",
        "                low_stock.remove(product)\n",
        "        return low_stock\n",
        "\n",
        "    def count_products_by_category(self):\n",
        "        # Incase store managers want to pull a mass inventory list that account for the number of products and total quantity for each category in the store's inventory.\n",
        "        categories = {}\n",
        "        for product in self.inventory:\n",
        "            if product.category in categories:\n",
        "                categories[product.category]['count'] += 1\n",
        "                categories[product.category]['quantity'] += product.quantity\n",
        "            else:\n",
        "                categories[product.category] = {'count': 1, 'quantity': product.quantity}\n",
        "        return categories\n",
        "\n",
        "    def run_menu(self):\n",
        "        # A Method for a Inventory Management menu so that you can choose which inventory management actions/Methods from above you want to utilize.\n",
        "        while True:\n",
        "            print(\"\\n=== Inventory Management System Menu ===\")\n",
        "            print(\"1. Add Product\")\n",
        "            print(\"2. Add Inventory\")\n",
        "            print(\"3. Remove Inventory\")\n",
        "            print(\"4. Search Product\")\n",
        "            print(\"5. List Low Stock Products\")\n",
        "            print(\"6. View Product Categories\")\n",
        "            print(\"7. Exit\")\n",
        "\n",
        "            choice = input(\"Enter your choice (1-7): \")\n",
        "\n",
        "            if choice == '1':\n",
        "                # Option for adding a new product to the inventory.\n",
        "                pass\n",
        "\n",
        "            elif choice == '2':\n",
        "                # Option for adding inventory quantity to an existing product.\n",
        "                pass\n",
        "\n",
        "            elif choice == '3':\n",
        "                # Option for removing inventory quantity of an existing product.\n",
        "                pass\n",
        "\n",
        "            elif choice == '4':\n",
        "                # Option for searching and displaying details of a product.\n",
        "                pass\n",
        "\n",
        "            elif choice == '5':\n",
        "                # Option for listing products with low stock.\n",
        "                pass\n",
        "\n",
        "            elif choice == '6':\n",
        "                # Option for displaying categories with product count and total quantity.\n",
        "                pass\n",
        "\n",
        "            elif choice == '7':\n",
        "                # Option for exiting the program.\n",
        "                pass\n",
        "\n",
        "            else:\n",
        "                print(\"Invalid choice. Please enter a number between 1 and 7 to continue.\")\n",
        "\n",
        "#Creating a tester instance\n",
        "my_store = Store()\n",
        "my_store.run_menu()"
      ]
    },
    {
      "cell_type": "code",
      "execution_count": null,
      "id": "3d9d93aa-aa92-420b-b69f-962bdcadb486",
      "metadata": {
        "id": "3d9d93aa-aa92-420b-b69f-962bdcadb486"
      },
      "outputs": [],
      "source": []
    }
  ],
  "metadata": {
    "kernelspec": {
      "display_name": "Python 3 (ipykernel)",
      "language": "python",
      "name": "python3"
    },
    "language_info": {
      "codemirror_mode": {
        "name": "ipython",
        "version": 3
      },
      "file_extension": ".py",
      "mimetype": "text/x-python",
      "name": "python",
      "nbconvert_exporter": "python",
      "pygments_lexer": "ipython3",
      "version": "3.12.1"
    },
    "colab": {
      "provenance": []
    }
  },
  "nbformat": 4,
  "nbformat_minor": 5
}